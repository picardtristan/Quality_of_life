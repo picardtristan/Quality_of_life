{
 "cells": [
  {
   "cell_type": "code",
   "execution_count": 1,
   "id": "a3775b82",
   "metadata": {},
   "outputs": [],
   "source": [
    "import requests\n",
    "from bs4 import BeautifulSoup\n",
    "import pandas as pd"
   ]
  },
  {
   "cell_type": "code",
   "execution_count": 2,
   "id": "661bc9fb",
   "metadata": {},
   "outputs": [
    {
     "name": "stdout",
     "output_type": "stream",
     "text": [
      "   Rank      Country  Quality of Life Index  Purchasing Power Index  \\\n",
      "0   NaN  Netherlands                  196.7                   107.8   \n",
      "1   NaN      Denmark                  194.7                   105.0   \n",
      "2   NaN  Switzerland                  193.6                   118.7   \n",
      "3   NaN   Luxembourg                  192.9                   127.1   \n",
      "4   NaN      Finland                  190.5                    98.8   \n",
      "\n",
      "   Safety Index  Health Care Index  Cost of Living Index  \\\n",
      "0          72.7               77.1                  68.6   \n",
      "1          73.4               79.2                  78.6   \n",
      "2          76.4               74.5                 114.2   \n",
      "3          64.9               75.0                  73.2   \n",
      "4          73.2               77.1                  67.5   \n",
      "\n",
      "   Property Price to Income Ratio  Traffic Commute Time Index  \\\n",
      "0                             7.2                        25.5   \n",
      "1                             6.6                        28.5   \n",
      "2                             9.7                        28.4   \n",
      "3                            11.5                        29.1   \n",
      "4                             7.8                        27.2   \n",
      "\n",
      "   Pollution Index  Climate Index  \n",
      "0             23.7           86.8  \n",
      "1             21.3           81.8  \n",
      "2             19.6           79.6  \n",
      "3             21.9           82.6  \n",
      "4             12.0           59.2  \n"
     ]
    }
   ],
   "source": [
    "url = 'https://www.numbeo.com/quality-of-life/rankings_by_country.jsp?title=2023'\n",
    "\n",
    "response = requests.get(url)\n",
    "\n",
    "# We chek the succeed of the request\n",
    "if response.status_code == 200:\n",
    "    soup = BeautifulSoup(response.text, 'html.parser')\n",
    "    table = soup.find('table', {'class': 'stripe'})\n",
    "    \n",
    "#We extract the data from the table\n",
    "    df = pd.read_html(str(table))[0]\n",
    "    \n",
    "print(df.head())"
   ]
  },
  {
   "cell_type": "code",
   "execution_count": 3,
   "id": "7c74af0b",
   "metadata": {},
   "outputs": [],
   "source": [
    "df.to_csv('quality_of_life_rankings_2023.csv', index=False)"
   ]
  },
  {
   "cell_type": "code",
   "execution_count": 4,
   "id": "3dee734b",
   "metadata": {},
   "outputs": [
    {
     "name": "stdout",
     "output_type": "stream",
     "text": [
      "   Rank      Country  Quality of Life Index  Purchasing Power Index  \\\n",
      "0   NaN  Switzerland                  195.3                   118.4   \n",
      "1   NaN      Denmark                  192.4                    99.5   \n",
      "2   NaN  Netherlands                  185.4                    88.0   \n",
      "3   NaN      Finland                  185.0                    91.0   \n",
      "4   NaN    Australia                  183.8                   104.6   \n",
      "\n",
      "   Safety Index  Health Care Index  Cost of Living Index  \\\n",
      "0          78.3               74.8                 123.3   \n",
      "1          73.4               80.1                  84.1   \n",
      "2          72.1               75.6                  75.7   \n",
      "3          72.7               76.3                  73.2   \n",
      "4          56.2               78.1                  77.7   \n",
      "\n",
      "   Property Price to Income Ratio  Traffic Commute Time Index  \\\n",
      "0                             8.3                        28.5   \n",
      "1                             6.8                        28.5   \n",
      "2                             7.2                        27.4   \n",
      "3                             7.9                        27.8   \n",
      "4                             7.2                        34.8   \n",
      "\n",
      "   Pollution Index  Climate Index  \n",
      "0             19.6           80.2  \n",
      "1             21.0           81.8  \n",
      "2             25.1           87.1  \n",
      "3             12.1           56.6  \n",
      "4             23.9           92.7  \n"
     ]
    }
   ],
   "source": [
    "url = 'https://www.numbeo.com/quality-of-life/rankings_by_country.jsp?title=2022'\n",
    "\n",
    "response = requests.get(url)\n",
    "\n",
    "if response.status_code == 200:\n",
    "    soup = BeautifulSoup(response.text, 'html.parser')\n",
    "    table = soup.find('table', {'class': 'stripe'})\n",
    "    \n",
    "    df = pd.read_html(str(table))[0]\n",
    "    \n",
    "print(df.head())\n",
    "\n",
    "df.to_csv('quality_of_life_rankings_2022.csv', index=False)"
   ]
  },
  {
   "cell_type": "code",
   "execution_count": 6,
   "id": "674230b2",
   "metadata": {},
   "outputs": [
    {
     "name": "stdout",
     "output_type": "stream",
     "text": [
      "   Rank      Country  Quality of Life Index  Purchasing Power Index  \\\n",
      "0   NaN  Switzerland                  190.8                   111.0   \n",
      "1   NaN      Denmark                  190.0                    94.7   \n",
      "2   NaN  Netherlands                  183.3                    83.9   \n",
      "3   NaN      Finland                  182.8                    89.1   \n",
      "4   NaN      Austria                  182.4                    78.2   \n",
      "\n",
      "   Safety Index  Health Care Index  Cost of Living Index  \\\n",
      "0          78.7               74.5                 131.7   \n",
      "1          73.3               80.0                  91.7   \n",
      "2          72.8               75.8                  78.6   \n",
      "3          73.0               76.4                  77.5   \n",
      "4          74.8               78.4                  75.5   \n",
      "\n",
      "   Property Price to Income Ratio  Traffic Commute Time Index  \\\n",
      "0                             8.4                        28.7   \n",
      "1                             6.7                        28.7   \n",
      "2                             7.4                        27.8   \n",
      "3                             8.6                        29.0   \n",
      "4                            10.4                        25.7   \n",
      "\n",
      "   Pollution Index  Climate Index  \n",
      "0             20.1           80.0  \n",
      "1             20.4           81.8  \n",
      "2             25.3           87.1  \n",
      "3             11.9           56.6  \n",
      "4             19.2           77.8  \n"
     ]
    }
   ],
   "source": [
    "\n",
    "url = 'https://www.numbeo.com/quality-of-life/rankings_by_country.jsp?title=2021'\n",
    "\n",
    "response = requests.get(url)\n",
    "\n",
    "if response.status_code == 200:\n",
    "    soup = BeautifulSoup(response.text, 'html.parser')\n",
    "    table = soup.find('table', {'class': 'stripe'})\n",
    "    \n",
    "    df = pd.read_html(str(table))[0]\n",
    "    \n",
    "print(df.head())\n",
    "\n",
    "df.to_csv('quality_of_life_rankings_2021.csv', index=False)"
   ]
  },
  {
   "cell_type": "code",
   "execution_count": 7,
   "id": "b307c341",
   "metadata": {},
   "outputs": [
    {
     "name": "stdout",
     "output_type": "stream",
     "text": [
      "   Rank      Country  Quality of Life Index  Purchasing Power Index  \\\n",
      "0   NaN      Denmark                  192.7                   100.9   \n",
      "1   NaN  Switzerland                  192.0                   119.5   \n",
      "2   NaN      Finland                  190.2                    99.9   \n",
      "3   NaN    Australia                  186.2                   107.3   \n",
      "4   NaN  Netherlands                  183.7                    90.7   \n",
      "\n",
      "   Safety Index  Health Care Index  Cost of Living Index  \\\n",
      "0          74.9               80.0                  83.0   \n",
      "1          78.4               72.4                 122.4   \n",
      "2          76.7               75.8                  70.3   \n",
      "3          58.6               77.4                  73.5   \n",
      "4          72.4               74.6                  73.7   \n",
      "\n",
      "   Property Price to Income Ratio  Traffic Commute Time Index  \\\n",
      "0                             7.5                        28.8   \n",
      "1                             8.7                        29.1   \n",
      "2                             8.3                        29.9   \n",
      "3                             7.5                        34.7   \n",
      "4                             7.5                        29.4   \n",
      "\n",
      "   Pollution Index  Climate Index  \n",
      "0             21.3           81.8  \n",
      "1             22.4           79.2  \n",
      "2             11.5           58.9  \n",
      "3             23.5           92.7  \n",
      "4             27.4           87.6  \n"
     ]
    }
   ],
   "source": [
    "url = 'https://www.numbeo.com/quality-of-life/rankings_by_country.jsp?title=2020'\n",
    "\n",
    "response = requests.get(url)\n",
    "\n",
    "if response.status_code == 200:\n",
    "    soup = BeautifulSoup(response.text, 'html.parser')\n",
    "    table = soup.find('table', {'class': 'stripe'})\n",
    "\n",
    "    df = pd.read_html(str(table))[0]\n",
    "    \n",
    "print(df.head())\n",
    "\n",
    "df.to_csv('quality_of_life_rankings_2020.csv', index=False)"
   ]
  },
  {
   "cell_type": "code",
   "execution_count": 8,
   "id": "32c31bda",
   "metadata": {},
   "outputs": [
    {
     "name": "stdout",
     "output_type": "stream",
     "text": [
      "   Rank      Country  Quality of Life Index  Purchasing Power Index  \\\n",
      "0   NaN      Denmark                  198.6                   114.4   \n",
      "1   NaN  Switzerland                  195.9                   129.7   \n",
      "2   NaN      Finland                  194.0                   112.3   \n",
      "3   NaN    Australia                  191.1                   122.9   \n",
      "4   NaN      Austria                  191.1                    96.7   \n",
      "\n",
      "   Safety Index  Health Care Index  Cost of Living Index  \\\n",
      "0          75.8               79.4                  81.4   \n",
      "1          78.5               72.7                 121.2   \n",
      "2          77.2               73.5                  72.8   \n",
      "3          57.2               76.4                  72.1   \n",
      "4          78.6               79.2                  71.8   \n",
      "\n",
      "   Property Price to Income Ratio  Traffic Commute Time Index  \\\n",
      "0                             6.9                        28.5   \n",
      "1                             9.6                        29.1   \n",
      "2                             8.0                        30.4   \n",
      "3                             7.6                        35.3   \n",
      "4                            10.1                        25.2   \n",
      "\n",
      "   Pollution Index  Climate Index  \n",
      "0             22.1           81.8  \n",
      "1             22.0           80.0  \n",
      "2             11.9           58.6  \n",
      "3             24.0           93.8  \n",
      "4             22.0           77.7  \n"
     ]
    }
   ],
   "source": [
    "url = 'https://www.numbeo.com/quality-of-life/rankings_by_country.jsp?title=2019'\n",
    "\n",
    "response = requests.get(url)\n",
    "\n",
    "if response.status_code == 200:\n",
    "    soup = BeautifulSoup(response.text, 'html.parser')\n",
    "    table = soup.find('table', {'class': 'stripe'})\n",
    "\n",
    "    df = pd.read_html(str(table))[0]\n",
    "    \n",
    "print(df.head())\n",
    "\n",
    "df.to_csv('quality_of_life_rankings_2019.csv', index=False)"
   ]
  },
  {
   "cell_type": "code",
   "execution_count": 9,
   "id": "92e531ae",
   "metadata": {},
   "outputs": [
    {
     "name": "stdout",
     "output_type": "stream",
     "text": [
      "   Rank      Country  Quality of Life Index  Purchasing Power Index  \\\n",
      "0   NaN      Denmark                  197.7                   117.5   \n",
      "1   NaN      Finland                  195.3                   119.4   \n",
      "2   NaN  Netherlands                  191.3                   109.5   \n",
      "3   NaN  Switzerland                  190.8                   126.1   \n",
      "4   NaN      Austria                  190.2                    98.7   \n",
      "\n",
      "   Safety Index  Health Care Index  Cost of Living Index  \\\n",
      "0          78.0               77.1                  93.3   \n",
      "1          76.3               75.4                  81.7   \n",
      "2          71.1               81.1                  82.7   \n",
      "3          78.2               71.7                 131.4   \n",
      "4          79.6               78.8                  81.5   \n",
      "\n",
      "   Property Price to Income Ratio  Traffic Commute Time Index  \\\n",
      "0                             7.2                        28.5   \n",
      "1                             7.5                        33.2   \n",
      "2                             6.7                        32.7   \n",
      "3                            10.9                        29.3   \n",
      "4                             9.6                        27.0   \n",
      "\n",
      "   Pollution Index  Climate Index  \n",
      "0             23.6           82.4  \n",
      "1             12.1           58.6  \n",
      "2             27.2           86.9  \n",
      "3             23.0           79.8  \n",
      "4             22.9           77.7  \n"
     ]
    }
   ],
   "source": [
    "url = 'https://www.numbeo.com/quality-of-life/rankings_by_country.jsp?title=2018'\n",
    "\n",
    "response = requests.get(url)\n",
    "\n",
    "if response.status_code == 200:\n",
    "    soup = BeautifulSoup(response.text, 'html.parser')\n",
    "    table = soup.find('table', {'class': 'stripe'})\n",
    "\n",
    "    df = pd.read_html(str(table))[0]\n",
    "\n",
    "print(df.head())\n",
    "\n",
    "df.to_csv('quality_of_life_rankings_2018.csv', index=False)"
   ]
  },
  {
   "cell_type": "code",
   "execution_count": 10,
   "id": "ce791c91",
   "metadata": {},
   "outputs": [
    {
     "name": "stdout",
     "output_type": "stream",
     "text": [
      "   Rank      Country  Quality of Life Index  Purchasing Power Index  \\\n",
      "0   NaN      Austria                  190.4                    95.7   \n",
      "1   NaN      Germany                  189.7                   124.9   \n",
      "2   NaN      Denmark                  184.9                    98.8   \n",
      "3   NaN  New Zealand                  184.7                    89.9   \n",
      "4   NaN        Spain                  183.6                    87.9   \n",
      "\n",
      "   Safety Index  Health Care Index  Cost of Living Index  \\\n",
      "0          80.8               80.9                  71.5   \n",
      "1          68.0               76.7                  65.5   \n",
      "2          78.9               75.4                  83.0   \n",
      "3          61.2               70.6                  80.8   \n",
      "4          68.7               76.7                  55.0   \n",
      "\n",
      "   Property Price to Income Ratio  Traffic Commute Time Index  \\\n",
      "0                             9.7                        26.3   \n",
      "1                             7.5                        30.6   \n",
      "2                             8.2                        28.4   \n",
      "3                             8.1                        30.2   \n",
      "4                             8.3                        32.6   \n",
      "\n",
      "   Pollution Index  Climate Index  \n",
      "0             21.9           62.1  \n",
      "1             27.1           58.0  \n",
      "2             26.0           64.2  \n",
      "3             20.0           85.4  \n",
      "4             37.5           88.0  \n"
     ]
    }
   ],
   "source": [
    "url = 'https://www.numbeo.com/quality-of-life/rankings_by_country.jsp?title=2017'\n",
    "\n",
    "response = requests.get(url)\n",
    "\n",
    "if response.status_code == 200:\n",
    "    soup = BeautifulSoup(response.text, 'html.parser')\n",
    "    table = soup.find('table', {'class': 'stripe'})\n",
    "\n",
    "    df = pd.read_html(str(table))[0]\n",
    "\n",
    "print(df.head())\n",
    "\n",
    "df.to_csv('quality_of_life_rankings_2017.csv', index=False)"
   ]
  },
  {
   "cell_type": "code",
   "execution_count": 11,
   "id": "95c82f86",
   "metadata": {},
   "outputs": [
    {
     "name": "stdout",
     "output_type": "stream",
     "text": [
      "   Rank      Country  Quality of Life Index  Purchasing Power Index  \\\n",
      "0   NaN  Switzerland                  208.5                   178.7   \n",
      "1   NaN      Denmark                  206.5                   142.1   \n",
      "2   NaN  New Zealand                  201.1                   115.5   \n",
      "3   NaN      Germany                  199.7                   147.6   \n",
      "4   NaN    Australia                  198.8                   147.3   \n",
      "\n",
      "   Safety Index  Health Care Index  Cost of Living Index  \\\n",
      "0          74.3               68.9                 123.1   \n",
      "1          74.3               81.9                  84.9   \n",
      "2          63.6               72.6                  78.2   \n",
      "3          67.0               75.8                  65.5   \n",
      "4          56.9               73.7                  78.5   \n",
      "\n",
      "   Property Price to Income Ratio  Traffic Commute Time Index  \\\n",
      "0                             8.6                        28.7   \n",
      "1                             5.9                        25.6   \n",
      "2                             6.3                        31.1   \n",
      "3                             7.1                        29.1   \n",
      "4                             8.4                        34.7   \n",
      "\n",
      "   Pollution Index  Climate Index  \n",
      "0             23.0           70.5  \n",
      "1             29.9           70.6  \n",
      "2             19.0           88.4  \n",
      "3             29.9           63.0  \n",
      "4             22.9           77.3  \n"
     ]
    }
   ],
   "source": [
    "url = 'https://www.numbeo.com/quality-of-life/rankings_by_country.jsp?title=2016'\n",
    "\n",
    "response = requests.get(url)\n",
    "\n",
    "if response.status_code == 200:\n",
    "    soup = BeautifulSoup(response.text, 'html.parser')\n",
    "    table = soup.find('table', {'class': 'stripe'})\n",
    "\n",
    "    df = pd.read_html(str(table))[0]\n",
    "\n",
    "print(df.head())\n",
    "\n",
    "df.to_csv('quality_of_life_rankings_2016.csv', index=False)"
   ]
  },
  {
   "cell_type": "code",
   "execution_count": 12,
   "id": "c62c3a36",
   "metadata": {},
   "outputs": [
    {
     "name": "stdout",
     "output_type": "stream",
     "text": [
      "   Rank        Country  Quality of Life Index  Purchasing Power Index  \\\n",
      "0   NaN    Switzerland                  222.9                   146.5   \n",
      "1   NaN        Germany                  195.9                   111.8   \n",
      "2   NaN         Sweden                  193.9                   110.9   \n",
      "3   NaN  United States                  192.5                   126.1   \n",
      "4   NaN        Finland                  190.2                   101.2   \n",
      "\n",
      "   Safety Index  Health Care Index  Cost of Living Index  \\\n",
      "0          73.2               66.3                 126.0   \n",
      "1          71.5               75.6                  76.3   \n",
      "2          57.9               76.3                  82.9   \n",
      "3          50.0               67.8                  76.5   \n",
      "4          70.5               69.4                  89.7   \n",
      "\n",
      "   Property Price to Income Ratio  Traffic Commute Time Index  \\\n",
      "0                             7.3                        25.6   \n",
      "1                             6.6                        31.1   \n",
      "2                             9.2                        26.9   \n",
      "3                             2.6                        36.0   \n",
      "4                             7.0                        33.2   \n",
      "\n",
      "   Pollution Index Climate Index  \n",
      "0             24.1             -  \n",
      "1             28.3             -  \n",
      "2             15.1             -  \n",
      "3             31.4             -  \n",
      "4             14.9             -  \n"
     ]
    }
   ],
   "source": [
    "url = 'https://www.numbeo.com/quality-of-life/rankings_by_country.jsp?title=2015'\n",
    "\n",
    "response = requests.get(url)\n",
    "\n",
    "if response.status_code == 200:\n",
    "    soup = BeautifulSoup(response.text, 'html.parser')\n",
    "    table = soup.find('table', {'class': 'stripe'})\n",
    "\n",
    "    df = pd.read_html(str(table))[0]\n",
    "    \n",
    "print(df.head())\n",
    "\n",
    "df.to_csv('quality_of_life_rankings_2015.csv', index=False)"
   ]
  },
  {
   "cell_type": "code",
   "execution_count": 13,
   "id": "cab06975",
   "metadata": {},
   "outputs": [
    {
     "name": "stdout",
     "output_type": "stream",
     "text": [
      "   Rank        Country  Quality of Life Index  Purchasing Power Index  \\\n",
      "0   NaN    Switzerland                  206.2                   138.1   \n",
      "1   NaN  United States                  195.5                   132.9   \n",
      "2   NaN        Germany                  192.7                   112.3   \n",
      "3   NaN         Sweden                  180.9                   106.1   \n",
      "4   NaN        Finland                  178.9                    97.9   \n",
      "\n",
      "   Safety Index  Health Care Index  Cost of Living Index  \\\n",
      "0          68.2               68.0                 143.9   \n",
      "1          49.9               68.6                  77.4   \n",
      "2          72.9               75.3                  87.1   \n",
      "3          61.7               75.2                 103.7   \n",
      "4          70.8               68.7                 103.3   \n",
      "\n",
      "   Property Price to Income Ratio  Traffic Commute Time Index  \\\n",
      "0                             7.1                        24.6   \n",
      "1                             2.4                        37.1   \n",
      "2                             5.6                        36.1   \n",
      "3                             9.4                        34.1   \n",
      "4                             7.8                        37.0   \n",
      "\n",
      "   Pollution Index Climate Index  \n",
      "0             26.8             -  \n",
      "1             35.1             -  \n",
      "2             30.2             -  \n",
      "3             17.5             -  \n",
      "4             16.7             -  \n"
     ]
    }
   ],
   "source": [
    "url = 'https://www.numbeo.com/quality-of-life/rankings_by_country.jsp?title=2014'\n",
    "\n",
    "response = requests.get(url)\n",
    "\n",
    "if response.status_code == 200:\n",
    "    soup = BeautifulSoup(response.text, 'html.parser')\n",
    "    table = soup.find('table', {'class': 'stripe'})\n",
    "\n",
    "    df = pd.read_html(str(table))[0]\n",
    "\n",
    "print(df.head())\n",
    "\n",
    "df.to_csv('quality_of_life_rankings_2014.csv', index=False)"
   ]
  }
 ],
 "metadata": {
  "kernelspec": {
   "display_name": "Python 3 (ipykernel)",
   "language": "python",
   "name": "python3"
  },
  "language_info": {
   "codemirror_mode": {
    "name": "ipython",
    "version": 3
   },
   "file_extension": ".py",
   "mimetype": "text/x-python",
   "name": "python",
   "nbconvert_exporter": "python",
   "pygments_lexer": "ipython3",
   "version": "3.9.13"
  }
 },
 "nbformat": 4,
 "nbformat_minor": 5
}
